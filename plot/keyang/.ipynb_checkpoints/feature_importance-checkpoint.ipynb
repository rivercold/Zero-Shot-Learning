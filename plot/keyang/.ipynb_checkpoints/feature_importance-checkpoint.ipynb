{
 "cells": [
  {
   "cell_type": "code",
   "execution_count": null,
   "metadata": {
    "collapsed": true
   },
   "outputs": [],
   "source": []
  },
  {
   "cell_type": "code",
   "execution_count": 15,
   "metadata": {
    "collapsed": false
   },
   "outputs": [],
   "source": [
    "%matplotlib inline\n",
    "import traceback\n",
    "import os.path\n",
    "import sys\n",
    "#sys.path.append(os.path.join(os.path.dirname(os.path.realpath(__file__)), os.pardir))\n",
    "import re\n",
    "import random,time\n",
    "import numpy as np\n",
    "import matplotlib.pyplot as plt\n",
    "from collections import defaultdict"
   ]
  },
  {
   "cell_type": "code",
   "execution_count": 25,
   "metadata": {
    "collapsed": false
   },
   "outputs": [],
   "source": [
    "def get_results_from_log(path):\n",
    "    diction = defaultdict(lambda:defaultdict(float))\n",
    "    lines = open(path,\"r\").readlines()\n",
    "    # diction key: metric->[unseen,seen,mean]->value\n",
    "    seen_line = lines[-3]\n",
    "    unseen_line = lines[-2]\n",
    "    mean_line = lines[-1]\n",
    "    for metric in [\"ROC-AUC\",\"PR-AUC\",\"Top-1 Acc\",\"Top-5 Acc\"]:\n",
    "        if metric == \"Top-5 Acc\":\n",
    "            re_metric = re.compile(r'(?<={} = ).*?(?=\\n)'.format(metric))\n",
    "        else:\n",
    "            re_metric = re.compile(r'(?<={} = ).*?(?=\\t)'.format(metric))\n",
    "        for split in [\"seen\",\"unseen\",\"mean\"]:\n",
    "            line = eval(\"{}_line\".format(split))\n",
    "            value = re_metric.findall(line)[0]\n",
    "            #print metric, split ,value\n",
    "            diction[metric][split] = float(value)\n",
    "    \n",
    "    return diction\n",
    "s2010_path = \"../../log/fc_Hinge_tmlp_128-50_vmlp_1000-200-50_bird-2010_s.log\"\n",
    "a = get_results_from_log(s2010_path)"
   ]
  },
  {
   "cell_type": "code",
   "execution_count": 26,
   "metadata": {
    "collapsed": true
   },
   "outputs": [],
   "source": [
    "s2010_path = \"../../log/fc_Hinge_tmlp_128-50_vmlp_1000-200-50_bird-2010_s.log\"\n",
    "s2011_path = \"../../log/fc_Hinge_tmlp_128-50_vmlp_1000-200-50_bird-2011_s.log\"\n",
    "w2010_path = \"../../log/fc_Eucl_tmlp_4016-300-50_vmlp_1000-200-50_bird-2010_w.log\"\n",
    "w2011_path = \"../../log/fc_Eucl_tmlp_4016-300-50_vmlp_1000-200-50_bird-2011_w.log\"\n",
    "ws2010_path = \"../../log/fc_Eucl_tmlp_4144-300-50_vmlp_1000-200-50_bird-2010_ws.log\"\n",
    "ws2011_path = \"../../log/fc_Eucl_tmlp_4144-300-50_vmlp_1000-200-50_bird-2011_ws.log\"\n",
    "wsa2010_path = \"../../log/fc_Eucl_tmlp_4456-300-50_vmlp_1000-200-50_bird-2010_was.log\"\n",
    "wsa2011_path = \"../../log/fc_Eucl_tmlp_4456-300-50_vmlp_1000-200-50_bird-2011_was.log\"\n",
    "# all use 496 - 500 line (start from 1)\n"
   ]
  },
  {
   "cell_type": "code",
   "execution_count": 27,
   "metadata": {
    "collapsed": false
   },
   "outputs": [],
   "source": [
    "s = {}\n",
    "w = {}\n",
    "ws = {}\n",
    "wsa = {}\n",
    "# 2010 dataset\n",
    "s[2010] = get_results_from_log(s2010_path)\n",
    "w[2010] = get_results_from_log(w2010_path)\n",
    "ws[2010] = get_results_from_log(ws2010_path)\n",
    "wsa[2010] = get_results_from_log(wsa2010_path)\n",
    "\n",
    "# 2011 dataset \n",
    "s[2011] = get_results_from_log(s2011_path)\n",
    "w[2011] = get_results_from_log(w2011_path)\n",
    "ws[2011] = get_results_from_log(ws2011_path)\n",
    "wsa[2011] = get_results_from_log(wsa2011_path)"
   ]
  },
  {
   "cell_type": "code",
   "execution_count": 31,
   "metadata": {
    "collapsed": false
   },
   "outputs": [
    {
     "name": "stdout",
     "output_type": "stream",
     "text": [
      "2010 ROC-AUC plot unit\n",
      "[0.6768, 0.7988, 0.7929, 0.8909]\n",
      "[0.8977, 0.969, 0.97, 0.9638]\n",
      "[0.7727, 0.8727, 0.8698, 0.9226]\n",
      "2010 PR-AUC plot unit\n",
      "[0.0917, 0.1586, 0.184, 0.2515]\n",
      "[0.2508, 0.5238, 0.5493, 0.488]\n",
      "[0.1608, 0.3172, 0.3426, 0.3542]\n",
      "2010 Top1 Acc plot unit\n",
      "[0.0, 0.0, 0.0, 0.0]\n",
      "[0.0, 0.0, 0.0, 0.0]\n",
      "[0.0, 0.0, 0.0, 0.0]\n",
      "2010 Top5- Acc plot unit\n",
      "[0.0, 0.0, 0.0, 0.0]\n",
      "[0.0, 0.0, 0.0, 0.0]\n",
      "[0.0, 0.0, 0.0, 0.0]\n",
      "2011 ROC-AUC plot unit\n",
      "[0.7571, 0.8368, 0.8246, 0.9235]\n",
      "[0.9602, 0.9831, 0.9854, 0.9787]\n",
      "[0.8467, 0.9013, 0.8956, 0.9478]\n",
      "2011 PR-AUC plot unit\n",
      "[0.1289, 0.1948, 0.1689, 0.3251]\n",
      "[0.4967, 0.679, 0.6919, 0.5809]\n",
      "[0.2912, 0.4084, 0.3996, 0.4379]\n",
      "2011 Top1 Acc plot unit\n",
      "[0.0, 0.0, 0.0, 0.0]\n",
      "[0.0, 0.0, 0.0, 0.0]\n",
      "[0.0, 0.0, 0.0, 0.0]\n",
      "2011 Top5- Acc plot unit\n",
      "[0.0, 0.0, 0.0, 0.0]\n",
      "[0.0, 0.0, 0.0, 0.0]\n",
      "[0.0, 0.0, 0.0, 0.0]\n"
     ]
    }
   ],
   "source": [
    "# Plot\n",
    "\n",
    "# 2010 - four figures - by metrics \n",
    "# in each figure, s, w, ws, wsa each has 3 set (unseen, seen and mean)\n",
    "for year in [2010,2011]:\n",
    "    for metric in [\"ROC-AUC\",\"PR-AUC\",\"Top1 Acc\",\"Top5- Acc\"]:\n",
    "        # plot unit\n",
    "        print year, metric, \"plot unit\"\n",
    "        label_list = [\"S\",\"F\",\"F+S\",\"F+S+A\"]\n",
    "        unseen,seen,mean = [],[],[]\n",
    "\n",
    "        for feat in [s,w,ws,wsa]:\n",
    "            diction = feat[year][metric]\n",
    "            for split in [\"unseen\",\"seen\",\"mean\"]:\n",
    "                eval(split).append(diction[split])\n",
    "        # plot \n",
    "        n = len(label_list)\n",
    "        fig, ax = plt.subplots(figsize=(13,7))\n",
    "        width = 0.20\n",
    "        \n",
    "        plot0 = ax.bar(ind - 0.0, unseen, width, color='y', zorder=3)\n",
    "        plot1 = ax.bar(ind + 0.25, seen, width, color='r', zorder=3)\n",
    "        plot2 = ax.bar(ind + 0.50, mean, width, color='b', zorder=3)\n",
    "        ax.legend( (plot0[0], plot1[0]), ('', '') , fontsize='xx-large')        \n",
    "    \n"
   ]
  },
  {
   "cell_type": "code",
   "execution_count": null,
   "metadata": {
    "collapsed": true
   },
   "outputs": [],
   "source": []
  }
 ],
 "metadata": {
  "kernelspec": {
   "display_name": "Python 2",
   "language": "python",
   "name": "python2"
  },
  "language_info": {
   "codemirror_mode": {
    "name": "ipython",
    "version": 2
   },
   "file_extension": ".py",
   "mimetype": "text/x-python",
   "name": "python",
   "nbconvert_exporter": "python",
   "pygments_lexer": "ipython2",
   "version": "2.7.11"
  }
 },
 "nbformat": 4,
 "nbformat_minor": 0
}
