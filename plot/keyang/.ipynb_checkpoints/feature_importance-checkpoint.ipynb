{
 "cells": [
  {
   "cell_type": "code",
   "execution_count": null,
   "metadata": {
    "collapsed": true
   },
   "outputs": [],
   "source": []
  },
  {
   "cell_type": "code",
   "execution_count": 15,
   "metadata": {
    "collapsed": false
   },
   "outputs": [],
   "source": [
    "%matplotlib inline\n",
    "import traceback\n",
    "import os.path\n",
    "import sys\n",
    "#sys.path.append(os.path.join(os.path.dirname(os.path.realpath(__file__)), os.pardir))\n",
    "import re\n",
    "import random,time\n",
    "import numpy as np\n",
    "import matplotlib.pyplot as plt\n",
    "from collections import defaultdict"
   ]
  },
  {
   "cell_type": "code",
   "execution_count": 25,
   "metadata": {
    "collapsed": false
   },
   "outputs": [],
   "source": [
    "def get_results_from_log(path):\n",
    "    diction = defaultdict(lambda:defaultdict(float))\n",
    "    lines = open(path,\"r\").readlines()\n",
    "    # diction key: metric->[unseen,seen,mean]->value\n",
    "    seen_line = lines[-3]\n",
    "    unseen_line = lines[-2]\n",
    "    mean_line = lines[-1]\n",
    "    for metric in [\"ROC-AUC\",\"PR-AUC\",\"Top-1 Acc\",\"Top-5 Acc\"]:\n",
    "        if metric == \"Top-5 Acc\":\n",
    "            re_metric = re.compile(r'(?<={} = ).*?(?=\\n)'.format(metric))\n",
    "        else:\n",
    "            re_metric = re.compile(r'(?<={} = ).*?(?=\\t)'.format(metric))\n",
    "        for split in [\"seen\",\"unseen\",\"mean\"]:\n",
    "            line = eval(\"{}_line\".format(split))\n",
    "            value = re_metric.findall(line)[0]\n",
    "            #print metric, split ,value\n",
    "            diction[metric][split] = float(value)\n",
    "    \n",
    "    return diction\n",
    "s2010_path = \"../../log/fc_Hinge_tmlp_128-50_vmlp_1000-200-50_bird-2010_s.log\"\n",
    "a = get_results_from_log(s2010_path)"
   ]
  },
  {
   "cell_type": "code",
   "execution_count": 26,
   "metadata": {
    "collapsed": true
   },
   "outputs": [],
   "source": [
    "s2010_path = \"../../log/fc_Hinge_tmlp_128-50_vmlp_1000-200-50_bird-2010_s.log\"\n",
    "s2011_path = \"../../log/fc_Hinge_tmlp_128-50_vmlp_1000-200-50_bird-2011_s.log\"\n",
    "w2010_path = \"../../log/fc_Eucl_tmlp_4016-300-50_vmlp_1000-200-50_bird-2010_w.log\"\n",
    "w2011_path = \"../../log/fc_Eucl_tmlp_4016-300-50_vmlp_1000-200-50_bird-2011_w.log\"\n",
    "ws2010_path = \"../../log/fc_Eucl_tmlp_4144-300-50_vmlp_1000-200-50_bird-2010_ws.log\"\n",
    "ws2011_path = \"../../log/fc_Eucl_tmlp_4144-300-50_vmlp_1000-200-50_bird-2011_ws.log\"\n",
    "wsa2010_path = \"../../log/fc_Eucl_tmlp_4456-300-50_vmlp_1000-200-50_bird-2010_was.log\"\n",
    "wsa2011_path = \"../../log/fc_Eucl_tmlp_4456-300-50_vmlp_1000-200-50_bird-2011_was.log\"\n",
    "# all use 496 - 500 line (start from 1)\n"
   ]
  },
  {
   "cell_type": "code",
   "execution_count": 27,
   "metadata": {
    "collapsed": false
   },
   "outputs": [],
   "source": [
    "s = {}\n",
    "w = {}\n",
    "ws = {}\n",
    "wsa = {}\n",
    "# 2010 dataset\n",
    "s[2010] = get_results_from_log(s2010_path)\n",
    "w[2010] = get_results_from_log(w2010_path)\n",
    "ws[2010] = get_results_from_log(ws2010_path)\n",
    "wsa[2010] = get_results_from_log(wsa2010_path)\n",
    "\n",
    "# 2011 dataset \n",
    "s[2011] = get_results_from_log(s2011_path)\n",
    "w[2011] = get_results_from_log(w2011_path)\n",
    "ws[2011] = get_results_from_log(ws2011_path)\n",
    "wsa[2011] = get_results_from_log(wsa2011_path)"
   ]
  },
  {
   "cell_type": "code",
   "execution_count": 100,
   "metadata": {
    "collapsed": false
   },
   "outputs": [
    {
     "name": "stdout",
     "output_type": "stream",
     "text": [
      "2010 ROC-AUC plot unit\n"
     ]
    },
    {
     "ename": "AttributeError",
     "evalue": "'Figure' object has no attribute 'save'",
     "output_type": "error",
     "traceback": [
      "\u001b[0;31m---------------------------------------------------------------------------\u001b[0m",
      "\u001b[0;31mAttributeError\u001b[0m                            Traceback (most recent call last)",
      "\u001b[0;32m<ipython-input-100-f57908c660ca>\u001b[0m in \u001b[0;36m<module>\u001b[0;34m()\u001b[0m\n\u001b[1;32m     31\u001b[0m         \u001b[0;31m#fig.ylabel('Example', fontsize=40)\u001b[0m\u001b[0;34m\u001b[0m\u001b[0;34m\u001b[0m\u001b[0m\n\u001b[1;32m     32\u001b[0m         \u001b[0mfig\u001b[0m\u001b[0;34m.\u001b[0m\u001b[0mlegend\u001b[0m\u001b[0;34m(\u001b[0m\u001b[0;34m(\u001b[0m\u001b[0mplot0\u001b[0m\u001b[0;34m[\u001b[0m\u001b[0;36m0\u001b[0m\u001b[0;34m]\u001b[0m\u001b[0;34m,\u001b[0m \u001b[0mplot1\u001b[0m\u001b[0;34m[\u001b[0m\u001b[0;36m0\u001b[0m\u001b[0;34m]\u001b[0m\u001b[0;34m,\u001b[0m\u001b[0mplot2\u001b[0m\u001b[0;34m[\u001b[0m\u001b[0;36m0\u001b[0m\u001b[0;34m]\u001b[0m\u001b[0;34m)\u001b[0m\u001b[0;34m,\u001b[0m \u001b[0;34m(\u001b[0m\u001b[0;34m'unseen'\u001b[0m\u001b[0;34m,\u001b[0m \u001b[0;34m'seen'\u001b[0m\u001b[0;34m,\u001b[0m\u001b[0;34m'mean'\u001b[0m\u001b[0;34m)\u001b[0m \u001b[0;34m,\u001b[0m \u001b[0mfontsize\u001b[0m\u001b[0;34m=\u001b[0m\u001b[0;34m'large'\u001b[0m\u001b[0;34m,\u001b[0m\u001b[0mmode\u001b[0m\u001b[0;34m=\u001b[0m\u001b[0;34m\"expand\"\u001b[0m\u001b[0;34m,\u001b[0m\u001b[0mncol\u001b[0m\u001b[0;34m=\u001b[0m\u001b[0;36m3\u001b[0m\u001b[0;34m,\u001b[0m\u001b[0mloc\u001b[0m\u001b[0;34m=\u001b[0m\u001b[0;36m2\u001b[0m\u001b[0;34m)\u001b[0m\u001b[0;34m\u001b[0m\u001b[0m\n\u001b[0;32m---> 33\u001b[0;31m         \u001b[0mfig\u001b[0m\u001b[0;34m.\u001b[0m\u001b[0msave\u001b[0m\u001b[0;34m(\u001b[0m\u001b[0;34m)\u001b[0m\u001b[0;34m\u001b[0m\u001b[0m\n\u001b[0m\u001b[1;32m     34\u001b[0m \u001b[0;34m\u001b[0m\u001b[0m\n\u001b[1;32m     35\u001b[0m         \u001b[0max\u001b[0m\u001b[0;34m.\u001b[0m\u001b[0mset_xticklabels\u001b[0m\u001b[0;34m(\u001b[0m\u001b[0mlabel_list\u001b[0m\u001b[0;34m,\u001b[0m \u001b[0msize\u001b[0m\u001b[0;34m=\u001b[0m\u001b[0;34m'xx-large'\u001b[0m\u001b[0;34m)\u001b[0m\u001b[0;34m\u001b[0m\u001b[0m\n",
      "\u001b[0;31mAttributeError\u001b[0m: 'Figure' object has no attribute 'save'"
     ]
    },
    {
     "data": {
      "image/png": "[encoded data removed]",
      "text/plain": [
       "<matplotlib.figure.Figure at 0x1061ca350>"
      ]
     },
     "metadata": {},
     "output_type": "display_data"
    },
    {
     "data": {
      "text/plain": [
       "<matplotlib.figure.Figure at 0x105b27b50>"
      ]
     },
     "metadata": {},
     "output_type": "display_data"
    }
   ],
   "source": [
    "# Plot\n",
    "import pylab\n",
    "# 2010 - four figures - by metrics \n",
    "# in each figure, s, w, ws, wsa each has 3 set (unseen, seen and mean)\n",
    "#plt.subplot(2, 3, 1)\n",
    "for year in [2010,2011]:\n",
    "    for metric in [\"ROC-AUC\",\"PR-AUC\",\"Top-5 Acc\"]:\n",
    "        # plot unit\n",
    "        print year, metric, \"plot unit\"\n",
    "        label_list = [\"S\",\"F\",\"F+S\",\"F+S+A\"]\n",
    "        unseen,seen,mean = [],[],[]\n",
    "\n",
    "        for feat in [s,w,ws,wsa]:\n",
    "            diction = feat[year][metric]\n",
    "            for split in [\"unseen\",\"seen\",\"mean\"]:\n",
    "                eval(split).append(diction[split])\n",
    "        # plot \n",
    "        n = len(label_list)\n",
    "        fig, ax = plt.subplots(figsize=(6,4))\n",
    "        ind = np.arange(n)\n",
    "        width = 0.20\n",
    "        \n",
    "        plot0 = ax.bar(ind - 0.0, unseen, width, color='y', zorder=3)\n",
    "        plot1 = ax.bar(ind + 0.25, seen, width, color='b', zorder=3)\n",
    "        plot2 = ax.bar(ind + 0.50, mean, width, color='r', zorder=3)\n",
    "        #ax.legend( (plot0[0], plot1[0],plot2[0]), ('unseen', 'seen','mean') , fontsize='large') \n",
    "        ax.legend(bbox_to_anchor=(1.05, 0), loc='lower left', borderaxespad=0.)\n",
    "        ax.set_xticks(ind+0.375)\n",
    "        ax.tick_params(axis=\"y\",labelsize=16)\n",
    "        #fig.ylabel('Example', fontsize=40)\n",
    "        fig.legend((plot0[0], plot1[0],plot2[0]), ('unseen', 'seen','mean') , fontsize='large',mode=\"expand\",ncol=3,loc=2)        \n",
    "        ax.set_xticklabels(label_list, size='xx-large')\n",
    "        ax.grid(zorder=0, linestyle='--')\n",
    "        plt.savefig(\"./figures/{0}-{1}.pdf\".format(year,metric), bbox_inches='tight',dpi=300)\n",
    "        plt.show()\n",
    "    \n"
   ]
  },
  {
   "cell_type": "code",
   "execution_count": null,
   "metadata": {
    "collapsed": true
   },
   "outputs": [],
   "source": []
  }
 ],
 "metadata": {
  "kernelspec": {
   "display_name": "Python 2",
   "language": "python",
   "name": "python2"
  },
  "language_info": {
   "codemirror_mode": {
    "name": "ipython",
    "version": 2
   },
   "file_extension": ".py",
   "mimetype": "text/x-python",
   "name": "python",
   "nbconvert_exporter": "python",
   "pygments_lexer": "ipython2",
   "version": "2.7.11"
  }
 },
 "nbformat": 4,
 "nbformat_minor": 0
}
